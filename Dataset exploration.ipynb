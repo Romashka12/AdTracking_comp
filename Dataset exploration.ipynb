{
 "cells": [
  {
   "cell_type": "markdown",
   "metadata": {},
   "source": [
    "### The notebook is used to go through the entire dataset and collate the information into tables stored in variables folder"
   ]
  },
  {
   "cell_type": "code",
   "execution_count": null,
   "metadata": {
    "collapsed": true
   },
   "outputs": [],
   "source": [
    "import numpy as np # linear algebra\n",
    "import pandas as pd # data processing, CSV file I/O \n",
    "import os\n",
    "import gc\n",
    "import matplotlib.pyplot as plt\n",
    "import seaborn as sns\n",
    "import datetime\n",
    "%matplotlib inline\n",
    "os.getcwd()"
   ]
  },
  {
   "cell_type": "code",
   "execution_count": null,
   "metadata": {
    "collapsed": true
   },
   "outputs": [],
   "source": [
    "#Create variables that will contain infrmation about the dataset\n",
    "\n",
    "info_app_n=pd.DataFrame()\n",
    "info_app_p=pd.DataFrame()\n",
    "\n",
    "info_channel_n=pd.DataFrame()\n",
    "info_channel_p=pd.DataFrame()\n",
    "\n",
    "info_device_n=pd.DataFrame()\n",
    "info_device_p=pd.DataFrame()\n",
    "\n",
    "info_os_n=pd.DataFrame()\n",
    "info_os_p=pd.DataFrame()\n",
    "\n",
    "start_time=datetime.datetime.now()\n",
    "for i in range(185):\n",
    "    print(i)\n",
    "    if i==184:\n",
    "        df_train= pd.read_csv('./AdTracking/train.csv',header=0, \\\n",
    "                              nrows=903891,dtype=dtype,parse_dates=parser_d,\\\n",
    "                              skiprows=range(1,i*1000000))\n",
    "    else:\n",
    "        df_train= pd.read_csv('./AdTracking/train.csv',header=0, \\\n",
    "                              nrows=1000000,dtype=dtype,parse_dates=parser_d,\\\n",
    "                              skiprows=range(1,i*1000000))        \n",
    "\n",
    "    print(df_train.shape)\n",
    "    info_os_temp=pd.DataFrame(df_train[['os','is_attributed']].groupby('os').count(),dtype=np.uint32)\n",
    "    info_os_n=pd.DataFrame(info_os_n.join(info_os_temp,lsuffix='x',rsuffix='y', how='outer').sum(axis=1),dtype=np.uint32)\n",
    "    info_os_temp=pd.DataFrame(df_train[['os','is_attributed']].groupby('os').sum(),dtype=np.uint32)\n",
    "    info_os_p=pd.DataFrame(info_os_p.join(info_os_temp,lsuffix='x',rsuffix='y', how='outer').sum(axis=1),dtype=np.uint32)\n",
    "    \n",
    "    \n",
    "    info_channel_temp=pd.DataFrame(df_train[['channel','is_attributed']].groupby('channel').count(),dtype=np.uint32)\n",
    "    info_channel_n=pd.DataFrame(info_channel_n.join(info_channel_temp,lsuffix='x',rsuffix='y', how='outer').sum(axis=1),dtype=np.uint32)\n",
    "    info_channel_temp=pd.DataFrame(df_train[['channel','is_attributed']].groupby('channel').sum(),dtype=np.uint32)\n",
    "    info_channel_p=pd.DataFrame(info_channel_p.join(info_channel_temp,lsuffix='x',rsuffix='y', how='outer').sum(axis=1),dtype=np.uint32)    \n",
    "    \n",
    "    info_device_temp=pd.DataFrame(df_train[['device','is_attributed']].groupby('device').count(),dtype=np.uint32)\n",
    "    info_device_n=pd.DataFrame(info_device_n.join(info_device_temp,lsuffix='x',rsuffix='y', how='outer').sum(axis=1),dtype=np.uint32)\n",
    "    info_device_temp=pd.DataFrame(df_train[['device','is_attributed']].groupby('device').sum(),dtype=np.uint32)\n",
    "    info_device_p=pd.DataFrame(info_device_p.join(info_device_temp,lsuffix='x',rsuffix='y', how='outer').sum(axis=1),dtype=np.uint32)  \n",
    "    \n",
    "    info_app_temp=pd.DataFrame(df_train[['app','is_attributed']].groupby('app').count(),dtype=np.uint32)\n",
    "    info_app_n=pd.DataFrame(info_app_n.join(info_app_temp,lsuffix='x',rsuffix='y', how='outer').sum(axis=1),dtype=np.uint32)\n",
    "    info_app_temp=pd.DataFrame(df_train[['app','is_attributed']].groupby('app').sum(),dtype=np.uint32)\n",
    "    info_app_p=pd.DataFrame(info_app_p.join(info_app_temp,lsuffix='x',rsuffix='y', how='outer').sum(axis=1),dtype=np.uint32)    \n",
    "    \n",
    "    print(info_app_n.sum())\n",
    "    print(info_app_n.memory_usage())\n",
    "    print(info_app_temp.sum())\n",
    "    gc.collect()\n",
    "    \n",
    "print(datetime.datetime.now()-start_time)"
   ]
  },
  {
   "cell_type": "code",
   "execution_count": null,
   "metadata": {
    "collapsed": true
   },
   "outputs": [],
   "source": [
    "#save variables to csv\n",
    "\n",
    "info_os_n.to_csv('./AdTracking/variables/info_os_n.csv')\n",
    "info_os_p.to_csv('./AdTracking/variables/info_os_p.csv')\n",
    "\n",
    "info_app_n.to_csv('./AdTracking/variables/info_app_n.csv')\n",
    "info_app_p.to_csv('./AdTracking/variables/info_app_p.csv')\n",
    "\n",
    "info_channel_n.to_csv('./AdTracking/variables/info_channel_n.csv')\n",
    "info_channel_p.to_csv('./AdTracking/variables/info_channel_p.csv')\n",
    "\n",
    "info_device_n.to_csv('./AdTracking/variables/info_device_n.csv')\n",
    "info_device_p.to_csv('./AdTracking/variables/info_device_p.csv')"
   ]
  }
 ],
 "metadata": {
  "kernelspec": {
   "display_name": "Python 3",
   "language": "python",
   "name": "python3"
  },
  "language_info": {
   "codemirror_mode": {
    "name": "ipython",
    "version": 3
   },
   "file_extension": ".py",
   "mimetype": "text/x-python",
   "name": "python",
   "nbconvert_exporter": "python",
   "pygments_lexer": "ipython3",
   "version": "3.6.3"
  },
  "widgets": {
   "application/vnd.jupyter.widget-state+json": {
    "state": {},
    "version_major": 2,
    "version_minor": 0
   }
  }
 },
 "nbformat": 4,
 "nbformat_minor": 2
}
